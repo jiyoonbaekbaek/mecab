{
  "nbformat": 4,
  "nbformat_minor": 0,
  "metadata": {
    "colab": {
      "name": "Untitled39.ipynb",
      "provenance": []
    },
    "kernelspec": {
      "name": "python3",
      "display_name": "Python 3"
    }
  },
  "cells": [
    {
      "cell_type": "markdown",
      "metadata": {
        "id": "Z9nAi0LsRyEm"
      },
      "source": [
        "구글 드라이브 연동 "
      ]
    },
    {
      "cell_type": "code",
      "metadata": {
        "id": "GlBwqOzkRuKi"
      },
      "source": [
        "from google.colab import drive\n",
        "drive.mount('/content/gdrive')"
      ],
      "execution_count": null,
      "outputs": []
    },
    {
      "cell_type": "markdown",
      "metadata": {
        "id": "q92iYCK9R3eT"
      },
      "source": [
        "install konlpy library"
      ]
    },
    {
      "cell_type": "code",
      "metadata": {
        "id": "fgsNhdP5R4fF"
      },
      "source": [
        "!pip install konlpy"
      ],
      "execution_count": null,
      "outputs": []
    },
    {
      "cell_type": "markdown",
      "metadata": {
        "id": "ElAnK8PNR6g8"
      },
      "source": [
        "install jdk and install JPype1-py3\n",
        "\n",
        "oracle jdk 설치 무방"
      ]
    },
    {
      "cell_type": "code",
      "metadata": {
        "id": "1-qUotCrR9r2"
      },
      "source": [
        "!apt-get install openjdk-8-jdk-headless -qq > /dev/null\n",
        "!pip3 install JPype1-py3"
      ],
      "execution_count": null,
      "outputs": []
    },
    {
      "cell_type": "markdown",
      "metadata": {
        "id": "FtCGzOZxSF7d"
      },
      "source": [
        "mecab-ko 설치"
      ]
    },
    {
      "cell_type": "code",
      "metadata": {
        "id": "Px8sUszZSGgS"
      },
      "source": [
        "import os\n",
        "os.chdir('/tmp/')\n",
        "!curl -LO https://bitbucket.org/eunjeon/mecab-ko/downloads/mecab-0.996-ko-0.9.1.tar.gz\n",
        "!tar zxfv mecab-0.996-ko-0.9.1.tar.gz\n",
        "os.chdir('/tmp/mecab-0.996-ko-0.9.1')\n",
        "!./configure\n",
        "!make\n",
        "!make check\n",
        "!make install\n"
      ],
      "execution_count": null,
      "outputs": []
    },
    {
      "cell_type": "markdown",
      "metadata": {
        "id": "dDomEabwSIpq"
      },
      "source": [
        "automake 설치"
      ]
    },
    {
      "cell_type": "code",
      "metadata": {
        "id": "b3aE6lNkSKix"
      },
      "source": [
        "os.chdir('/tmp')\n",
        "!curl -LO http://ftpmirror.gnu.org/automake/automake-1.11.tar.gz\n",
        "!tar -zxvf automake-1.11.tar.gz\n",
        "os.chdir('/tmp/automake-1.11')\n",
        "!./configure\n",
        "!make\n",
        "!make install\n"
      ],
      "execution_count": null,
      "outputs": []
    },
    {
      "cell_type": "markdown",
      "metadata": {
        "id": "QEgWYTSaSQ_T"
      },
      "source": [
        "Please make sure it is installed and in your PATH."
      ]
    },
    {
      "cell_type": "markdown",
      "metadata": {
        "id": "xaBxZS0ISWaP"
      },
      "source": [
        "make: * No targets specified and no makefile found. Stop. make: * No rule to make target 'install'. Stop. 위 문구가 나오면 실패 automake install error를 실행\n",
        "\n",
        "make[2]: Leaving directory '/tmp/automake-1.11/tests' make[1]: Leaving directory '/tmp/automake-1.11/tests' 이 나오면 성공"
      ]
    },
    {
      "cell_type": "markdown",
      "metadata": {
        "id": "eq8aO5NOSasq"
      },
      "source": [
        "automake install error\n",
        "configure: error: no acceptable m4 could be found in $PATH.\n",
        "\n",
        "Glibc 2.9 - 2.12 and GNU M4 1.4.11 - 1.4.15 have another strstr bug.\n",
        "\n",
        "install GNU M4 1.4.9\n",
        "\n",
        "install autoconf-2.69"
      ]
    },
    {
      "cell_type": "code",
      "metadata": {
        "id": "E0jXtvpPSb2K"
      },
      "source": [
        "import os\n",
        "os.chdir('/tmp/')\n",
        "\n",
        " \n",
        "!wget -O m4-1.4.9.tar.gz http://ftp.gnu.org/gnu/m4/m4-1.4.9.tar.gz\n",
        "!tar -zvxf m4-1.4.9.tar.gz\n",
        "os.chdir('/tmp/m4-1.4.9')\n",
        "!./configure\n",
        "!make\n",
        "!make install\n",
        "\n",
        "os.chdir('/tmp')\n",
        "!curl -OL http://ftpmirror.gnu.org/autoconf/autoconf-2.69.tar.gz\n",
        "!tar xzf autoconf-2.69.tar.gz\n",
        "os.chdir('/tmp/autoconf-2.69')\n",
        "!./configure --prefix=/usr/local\n",
        "!make\n",
        "!make install\n",
        "!export PATH=/usr/local/bin\n",
        "\n"
      ],
      "execution_count": null,
      "outputs": []
    },
    {
      "cell_type": "markdown",
      "metadata": {
        "id": "2uSbc1mrSlJ0"
      },
      "source": [
        "install mecab-ko-dic"
      ]
    },
    {
      "cell_type": "code",
      "metadata": {
        "id": "3LSPWNWeSnmy"
      },
      "source": [
        "import os\n",
        "os.chdir('/tmp')\n",
        "!curl -LO https://bitbucket.org/eunjeon/mecab-ko-dic/downloads/mecab-ko-dic-2.0.1-20150920.tar.gz\n",
        "!tar -zxvf mecab-ko-dic-2.0.1-20150920.tar.gz\n",
        "os.chdir('/tmp/mecab-ko-dic-2.0.1-20150920')\n",
        "!./autogen.sh\n",
        "!./configure\n",
        "!make\n",
        "# !sh -c 'echo \"dicdir=/usr/local/lib/mecab/dic/mecab-ko-dic\" > /usr/local/etc/mecabrc'\n",
        "!make install\n",
        "\n"
      ],
      "execution_count": null,
      "outputs": []
    },
    {
      "cell_type": "markdown",
      "metadata": {
        "id": "UU3IxcfCSprQ"
      },
      "source": [
        "make: *** No targets specified and no makefile found. Stop.\n",
        "\n",
        "make: *** No rule to make target 'install'. Stop.\n",
        "\n",
        "Idconfig 를 실행\n",
        "\n",
        "done! echo To enable dictionary, rewrite /usr/local/etc/mecabrc as \"dicdir = /usr/local/lib/mecab/dic/mecab-ko-dic\"\n",
        "\n",
        "위 문구가 나오면 성공 install Mecab python을 실행"
      ]
    },
    {
      "cell_type": "markdown",
      "metadata": {
        "id": "8ReD89taSsB8"
      },
      "source": [
        "ldconfig\n",
        "libmecab.so.2를 찾을 수 없는 에러가 나는 경우\n",
        "\n",
        "실행 후 재시도 위로 올라가서 전체를 재시도"
      ]
    },
    {
      "cell_type": "code",
      "metadata": {
        "id": "znlbzH29SuQo"
      },
      "source": [
        "os.chdir('/tmp/mecab-ko-dic-2.0.1-20150920')\n",
        "!ldconfig\n",
        "!ldconfig -p | grep /usr/local/lib\n"
      ],
      "execution_count": null,
      "outputs": []
    },
    {
      "cell_type": "markdown",
      "metadata": {
        "id": "YSSJqWtdSwLI"
      },
      "source": [
        "install mecab-python\n",
        "python3 기준입니다."
      ]
    },
    {
      "cell_type": "code",
      "metadata": {
        "id": "oLpIyJrgSzAl"
      },
      "source": [
        "# install mecab-python\n",
        "import os\n",
        "os.chdir('/content')\n",
        "\n",
        "!git clone https://bitbucket.org/eunjeon/mecab-python-0.996.git\n",
        "os.chdir('/content/mecab-python-0.996')\n",
        "\n",
        "!python3 setup.py build\n",
        "!python3 setup.py install"
      ],
      "execution_count": null,
      "outputs": []
    },
    {
      "cell_type": "markdown",
      "metadata": {
        "id": "bIFUvQXQS1E8"
      },
      "source": [
        "running install_egg_info\n",
        "\n",
        "Writing /usr/local/lib/python3.6/dist-packages/mecab_python-0.996_ko_0.9.0.egg-info\n",
        "\n",
        "위 문구가 나오면 Mecab 설치 완료"
      ]
    },
    {
      "cell_type": "markdown",
      "metadata": {
        "id": "kIxR2YyyS7Kl"
      },
      "source": [
        "여기서부터 원하시는 형태소 분석기 선택하셔서 자유롭게 사용하시면 됩니다 :) "
      ]
    },
    {
      "cell_type": "code",
      "metadata": {
        "id": "aD7LdAn5S4Ga"
      },
      "source": [
        "from konlpy.tag import Okt, Komoran, Hannanum, Kkma , Mecab\n",
        "\n",
        "okt = Okt()\n",
        "komoran = Komoran()\n",
        "hannanum = Hannanum()\n",
        "kkma = Kkma()\n",
        "mecab = Mecab()\n",
        "\n"
      ],
      "execution_count": null,
      "outputs": []
    }
  ]
}